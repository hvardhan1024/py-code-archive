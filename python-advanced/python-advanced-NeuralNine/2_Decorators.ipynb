{
 "cells": [
  {
   "cell_type": "code",
   "execution_count": 6,
   "id": "bc278bec-f6ac-419f-8618-dc2348763203",
   "metadata": {},
   "outputs": [
    {
     "name": "stdout",
     "output_type": "stream",
     "text": [
      "I am decorating your function !\n",
      "Hello world\n"
     ]
    }
   ],
   "source": [
    "def mydecorator(function):\n",
    "\n",
    "    def wrapper():\n",
    "        print(\"I am decorating your function !\")\n",
    "        function()\n",
    "\n",
    "    return wrapper\n",
    "\n",
    "\n",
    "def hello_world():\n",
    "    print(\"Hello world\")\n",
    "\n",
    "mydecorator(hello_world)()"
   ]
  },
  {
   "cell_type": "code",
   "execution_count": 7,
   "id": "770d4e96-4642-4814-a5ad-0691bcf66165",
   "metadata": {},
   "outputs": [
    {
     "name": "stdout",
     "output_type": "stream",
     "text": [
      "I am decorating your function !\n",
      "Hello world 2\n"
     ]
    }
   ],
   "source": [
    "@mydecorator\n",
    "def hello_world2():\n",
    "    print(\"Hello world 2\")\n",
    "\n",
    "hello_world2()"
   ]
  },
  {
   "cell_type": "code",
   "execution_count": null,
   "id": "9a20f5b5-86ba-47f6-b953-a06a47828f00",
   "metadata": {},
   "outputs": [],
   "source": []
  },
  {
   "cell_type": "code",
   "execution_count": 13,
   "id": "ed0c84f9-9eab-4534-bc1e-cc6ae7d02c95",
   "metadata": {},
   "outputs": [
    {
     "name": "stdout",
     "output_type": "stream",
     "text": [
      "decorating the function - before \n"
     ]
    },
    {
     "data": {
      "text/plain": [
       "'Hello World!'"
      ]
     },
     "execution_count": 13,
     "metadata": {},
     "output_type": "execute_result"
    }
   ],
   "source": [
    "def mydecorator(function):\n",
    "    def wrapper(*args,**kwargs):\n",
    "        print(\"decorating the function - before \")\n",
    "        return function(*args,**kwargs)\n",
    "    return wrapper\n",
    "    \n",
    "@mydecorator\n",
    "def wish(name):\n",
    "    return f\"Hello {name}!\"\n",
    "\n",
    "wish(\"World\")"
   ]
  },
  {
   "cell_type": "code",
   "execution_count": null,
   "id": "e07c0391-037c-45bd-9ce2-f49a617c421a",
   "metadata": {},
   "outputs": [],
   "source": []
  },
  {
   "cell_type": "code",
   "execution_count": null,
   "id": "3586525c-de1c-4971-9560-c5c80fa0feea",
   "metadata": {},
   "outputs": [],
   "source": []
  },
  {
   "cell_type": "code",
   "execution_count": null,
   "id": "d3dcc3e1-3936-4945-a57a-1d30fcd0dd28",
   "metadata": {},
   "outputs": [],
   "source": []
  },
  {
   "cell_type": "code",
   "execution_count": 16,
   "id": "9af1f750-2212-4128-8b28-4969a391a765",
   "metadata": {},
   "outputs": [],
   "source": [
    "# practical examples "
   ]
  },
  {
   "cell_type": "code",
   "execution_count": 17,
   "id": "472656ba-4ef0-43d0-9e09-21c79dd6d323",
   "metadata": {},
   "outputs": [],
   "source": [
    "# 1 logging"
   ]
  },
  {
   "cell_type": "code",
   "execution_count": 38,
   "id": "00ec6be3-e609-4702-af3e-0c9203f9fa3f",
   "metadata": {},
   "outputs": [],
   "source": [
    "def logged(function):\n",
    "    def wrapper(*args,**kwargs):\n",
    "        value = function(*args,**kwargs)\n",
    "        with open('logfile.txt','a+') as f:\n",
    "            fname = function.__name__\n",
    "            print(f\"{fname} returned value {value}\")\n",
    "            f.write(f\"{fname} returned value {value} \\n\")\n",
    "        return value\n",
    "\n",
    "    return wrapper\n",
    "\n",
    "@logged\n",
    "def add(x,y):\n",
    "    return x+y"
   ]
  },
  {
   "cell_type": "code",
   "execution_count": 39,
   "id": "53e5e145-7c4f-4fad-ad55-b08413c71d05",
   "metadata": {},
   "outputs": [
    {
     "name": "stdout",
     "output_type": "stream",
     "text": [
      "add returned value 30\n",
      "30\n"
     ]
    }
   ],
   "source": [
    "print(add(10,20))"
   ]
  },
  {
   "cell_type": "code",
   "execution_count": null,
   "id": "68857f98-031a-4814-ba17-72ac474e6450",
   "metadata": {},
   "outputs": [],
   "source": []
  },
  {
   "cell_type": "code",
   "execution_count": null,
   "id": "fcb0046a-c08a-4e0e-bd57-05221762197a",
   "metadata": {},
   "outputs": [],
   "source": []
  },
  {
   "cell_type": "code",
   "execution_count": 48,
   "id": "eb856dba-75cb-409b-91da-cee19b886884",
   "metadata": {},
   "outputs": [],
   "source": [
    "# timing\n",
    "import time \n",
    "def timed(function):\n",
    "    def wrapper(*args,**kwargs):\n",
    "        before = time.time()\n",
    "        value = function(*args,**kwargs)\n",
    "        after = time.time()\n",
    "        fname = function.__name__\n",
    "        print(f\"{fname} took {after-before} seconds to execute!\")\n",
    "        return value\n",
    "    return wrapper \n",
    "\n",
    "@timed\n",
    "def myfunction(x):\n",
    "    result = 1\n",
    "    for i in range(1,x+1):\n",
    "        result *=i\n",
    "    return result\n",
    "        "
   ]
  },
  {
   "cell_type": "code",
   "execution_count": 50,
   "id": "9f8dc2a1-81b2-430d-8af4-ab04f5863a81",
   "metadata": {},
   "outputs": [
    {
     "name": "stdout",
     "output_type": "stream",
     "text": [
      "myfunction took 0.0010025501251220703 seconds to execute!\n"
     ]
    },
    {
     "data": {
      "text/plain": [
       "64034522846623895262347970319503005850702583026002959458684445942802397169186831436278478647463264676294350575035856810848298162883517435228961988646802997937341654150838162426461942352307046244325015114448670890662773914918117331955996440709549671345290477020322434911210797593280795101545372667251627877890009349763765710326350331533965349868386831339352024373788157786791506311858702618270169819740062983025308591298346162272304558339520759611505302236086810433297255194852674432232438669948422404232599805551610635942376961399231917134063858996537970147827206606320217379472010321356624613809077942304597360699567595836096158715129913822286578579549361617654480453222007825818400848436415591229454275384803558374518022675900061399560145595206127211192918105032491008000000000000000000000000000000000000000000000000000000000000000000000000000000000000000000000000000"
      ]
     },
     "execution_count": 50,
     "metadata": {},
     "output_type": "execute_result"
    }
   ],
   "source": [
    "myfunction(400)"
   ]
  },
  {
   "cell_type": "code",
   "execution_count": null,
   "id": "51b76bf9-5e67-4aaf-9560-1783498e9a89",
   "metadata": {},
   "outputs": [],
   "source": []
  }
 ],
 "metadata": {
  "kernelspec": {
   "display_name": "Python 3 (ipykernel)",
   "language": "python",
   "name": "python3"
  },
  "language_info": {
   "codemirror_mode": {
    "name": "ipython",
    "version": 3
   },
   "file_extension": ".py",
   "mimetype": "text/x-python",
   "name": "python",
   "nbconvert_exporter": "python",
   "pygments_lexer": "ipython3",
   "version": "3.12.2"
  }
 },
 "nbformat": 4,
 "nbformat_minor": 5
}
