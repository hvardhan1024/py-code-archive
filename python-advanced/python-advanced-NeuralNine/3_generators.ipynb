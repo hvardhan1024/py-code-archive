{
 "cells": [
  {
   "cell_type": "code",
   "execution_count": 7,
   "id": "b3277875-c7c3-4f62-97f4-e5594f0d31ce",
   "metadata": {},
   "outputs": [
    {
     "name": "stdout",
     "output_type": "stream",
     "text": [
      "['__bool__', '__class__', '__contains__', '__delattr__', '__dir__', '__doc__', '__eq__', '__format__', '__ge__', '__getattribute__', '__getitem__', '__getstate__', '__gt__', '__hash__', '__init__', '__init_subclass__', '__iter__', '__le__', '__len__', '__lt__', '__ne__', '__new__', '__reduce__', '__reduce_ex__', '__repr__', '__reversed__', '__setattr__', '__sizeof__', '__str__', '__subclasshook__', 'count', 'index', 'start', 'step', 'stop']\n"
     ]
    }
   ],
   "source": [
    "# seq 1 to 9,000,000\n",
    "# cube them \n",
    "\n",
    "# range is not a generator\n",
    "print(dir(range(10)))"
   ]
  },
  {
   "cell_type": "markdown",
   "id": "177d20f9-1974-46d2-b03d-47d960512edc",
   "metadata": {},
   "source": [
    " range is not a generator, but it returns an iterable object. In Python 3, range returns a range object that represents a sequence of numbers. While it behaves like a generator in that it generates values on the fly rather than storing them all in memory at once, it is not a generator in the technical sense because it does not implement the iterator protocol. However, you can iterate over a range object using a for loop or by converting it to a list or tuple, similar to how you would iterate over the values produced by a generator."
   ]
  },
  {
   "cell_type": "markdown",
   "id": "739afd48-807e-4b71-ab8d-6069d2f6ad1f",
   "metadata": {},
   "source": [
    "### Iterable\n",
    "- An iterable is any object that can be iterated over, meaning it can be used in a for loop or passed to functions like `iter()` and `next()` to produce an iterator.\n",
    "- Iterable objects typically implement the `__iter__()` method, which returns an iterator.\n",
    "\n",
    "### Iterator\n",
    "- An iterator is an object that represents a stream of data. It provides an interface for accessing elements of a sequence one at a time.\n",
    "- Iterators implement the `__iter__()` and `__next__()` methods. The `__iter__()` method returns the iterator object itself, and the `__next__()` method returns the next item in the sequence.\n",
    "- Once all items have been returned, the `__next__()` method raises a `StopIteration` exception to signal the end of the iteration.\n",
    "\n",
    "### Generator\n",
    "- A generator is a special type of iterator that is created using a function with the `yield` keyword.\n",
    "- Generators allow you to define an iterator in a more concise and readable way compared to traditional iterator classes.\n",
    "- When a generator function is called, it returns a generator object that can be iterated over. Each time the generator's `__next__()` method is called, the function's execution resumes from where it left off until it encounters a `yield` statement, at which point it yields the value and pauses execution.\n",
    "- Generators are memory efficient because they generate values on-the-fly rather than storing them in memory.\n"
   ]
  },
  {
   "cell_type": "code",
   "execution_count": 14,
   "id": "68ab814d-6c2a-420c-bc33-cd3380b0f3ab",
   "metadata": {},
   "outputs": [],
   "source": [
    "def mygenerator(n):\n",
    "    for x in range(n):\n",
    "        if x == 5:\n",
    "            raise StopIteration\n",
    "        yield x**3"
   ]
  },
  {
   "cell_type": "code",
   "execution_count": 18,
   "id": "53021324-2135-44d1-89b2-0d364eed342e",
   "metadata": {},
   "outputs": [
    {
     "name": "stdout",
     "output_type": "stream",
     "text": [
      "<generator object mygenerator at 0x000001DD3EB5DE50>\n",
      "200\n"
     ]
    }
   ],
   "source": [
    "import sys\n",
    "\n",
    "values = mygenerator(80000)\n",
    "print(values)\n",
    "print(sys.getsizeof(values))"
   ]
  },
  {
   "cell_type": "code",
   "execution_count": 19,
   "id": "dc3476f3-23ea-4282-8026-b6872f9d1630",
   "metadata": {},
   "outputs": [
    {
     "name": "stdout",
     "output_type": "stream",
     "text": [
      "0\n",
      "1\n",
      "8\n",
      "27\n",
      "64\n"
     ]
    },
    {
     "ename": "RuntimeError",
     "evalue": "generator raised StopIteration",
     "output_type": "error",
     "traceback": [
      "\u001b[1;31m---------------------------------------------------------------------------\u001b[0m",
      "\u001b[1;31mStopIteration\u001b[0m                             Traceback (most recent call last)",
      "Cell \u001b[1;32mIn[14], line 4\u001b[0m, in \u001b[0;36mmygenerator\u001b[1;34m(n)\u001b[0m\n\u001b[0;32m      3\u001b[0m \u001b[38;5;28;01mif\u001b[39;00m x \u001b[38;5;241m==\u001b[39m \u001b[38;5;241m5\u001b[39m:\n\u001b[1;32m----> 4\u001b[0m     \u001b[38;5;28;01mraise\u001b[39;00m \u001b[38;5;167;01mStopIteration\u001b[39;00m\n\u001b[0;32m      5\u001b[0m \u001b[38;5;28;01myield\u001b[39;00m x\u001b[38;5;241m*\u001b[39m\u001b[38;5;241m*\u001b[39m\u001b[38;5;241m3\u001b[39m\n",
      "\u001b[1;31mStopIteration\u001b[0m: ",
      "\nThe above exception was the direct cause of the following exception:\n",
      "\u001b[1;31mRuntimeError\u001b[0m                              Traceback (most recent call last)",
      "Cell \u001b[1;32mIn[19], line 6\u001b[0m\n\u001b[0;32m      4\u001b[0m \u001b[38;5;28mprint\u001b[39m(\u001b[38;5;28mnext\u001b[39m(values))\n\u001b[0;32m      5\u001b[0m \u001b[38;5;28mprint\u001b[39m(\u001b[38;5;28mnext\u001b[39m(values))\n\u001b[1;32m----> 6\u001b[0m \u001b[38;5;28mprint\u001b[39m(\u001b[38;5;28;43mnext\u001b[39;49m\u001b[43m(\u001b[49m\u001b[43mvalues\u001b[49m\u001b[43m)\u001b[49m)\n\u001b[0;32m      7\u001b[0m \u001b[38;5;28mprint\u001b[39m(\u001b[38;5;28mnext\u001b[39m(values))\n",
      "\u001b[1;31mRuntimeError\u001b[0m: generator raised StopIteration"
     ]
    }
   ],
   "source": [
    "print(next(values))\n",
    "print(next(values))\n",
    "print(next(values))\n",
    "print(next(values))\n",
    "print(next(values))\n",
    "print(next(values))\n",
    "print(next(values))"
   ]
  },
  {
   "cell_type": "code",
   "execution_count": 17,
   "id": "244125c0-4623-4e7e-8350-eca5189790c6",
   "metadata": {},
   "outputs": [
    {
     "name": "stdout",
     "output_type": "stream",
     "text": [
      "0\n",
      "1\n",
      "8\n",
      "27\n",
      "64\n"
     ]
    },
    {
     "ename": "RuntimeError",
     "evalue": "generator raised StopIteration",
     "output_type": "error",
     "traceback": [
      "\u001b[1;31m---------------------------------------------------------------------------\u001b[0m",
      "\u001b[1;31mStopIteration\u001b[0m                             Traceback (most recent call last)",
      "Cell \u001b[1;32mIn[14], line 4\u001b[0m, in \u001b[0;36mmygenerator\u001b[1;34m(n)\u001b[0m\n\u001b[0;32m      3\u001b[0m \u001b[38;5;28;01mif\u001b[39;00m x \u001b[38;5;241m==\u001b[39m \u001b[38;5;241m5\u001b[39m:\n\u001b[1;32m----> 4\u001b[0m     \u001b[38;5;28;01mraise\u001b[39;00m \u001b[38;5;167;01mStopIteration\u001b[39;00m\n\u001b[0;32m      5\u001b[0m \u001b[38;5;28;01myield\u001b[39;00m x\u001b[38;5;241m*\u001b[39m\u001b[38;5;241m*\u001b[39m\u001b[38;5;241m3\u001b[39m\n",
      "\u001b[1;31mStopIteration\u001b[0m: ",
      "\nThe above exception was the direct cause of the following exception:\n",
      "\u001b[1;31mRuntimeError\u001b[0m                              Traceback (most recent call last)",
      "Cell \u001b[1;32mIn[17], line 2\u001b[0m\n\u001b[0;32m      1\u001b[0m values \u001b[38;5;241m=\u001b[39m mygenerator(\u001b[38;5;241m80000\u001b[39m)\n\u001b[1;32m----> 2\u001b[0m \u001b[38;5;28;43;01mfor\u001b[39;49;00m\u001b[43m \u001b[49m\u001b[43mi\u001b[49m\u001b[43m \u001b[49m\u001b[38;5;129;43;01min\u001b[39;49;00m\u001b[43m \u001b[49m\u001b[43mvalues\u001b[49m\u001b[43m:\u001b[49m\n\u001b[0;32m      3\u001b[0m \u001b[43m    \u001b[49m\u001b[38;5;28;43mprint\u001b[39;49m\u001b[43m(\u001b[49m\u001b[43mi\u001b[49m\u001b[43m)\u001b[49m\n",
      "\u001b[1;31mRuntimeError\u001b[0m: generator raised StopIteration"
     ]
    }
   ],
   "source": [
    "values = mygenerator(80000)\n",
    "for i in values:\n",
    "    print(i)\n"
   ]
  },
  {
   "cell_type": "code",
   "execution_count": 20,
   "id": "3243303d-9278-43c8-9013-59b3acfe626a",
   "metadata": {},
   "outputs": [],
   "source": [
    "# infinite sequences\n",
    "\n",
    "def infinite_sequence():\n",
    "    result = 1 \n",
    "    while True:\n",
    "        yield result \n",
    "        result *=5"
   ]
  },
  {
   "cell_type": "code",
   "execution_count": 23,
   "id": "d933cf18-03f0-4049-ae29-4bac37d3e23d",
   "metadata": {},
   "outputs": [
    {
     "name": "stdout",
     "output_type": "stream",
     "text": [
      "1\n",
      "5\n",
      "25\n",
      "125\n",
      "625\n",
      "3125\n",
      "15625\n",
      "78125\n",
      "390625\n",
      "1953125\n"
     ]
    }
   ],
   "source": [
    "seq = infinite_sequence()\n",
    "for i in range(10):\n",
    "    print(next(seq))"
   ]
  },
  {
   "cell_type": "code",
   "execution_count": null,
   "id": "7d64d7d6-341b-4e61-a1b1-e853da56e284",
   "metadata": {},
   "outputs": [],
   "source": []
  },
  {
   "cell_type": "code",
   "execution_count": null,
   "id": "be1377ed-abec-42d9-83d0-187fe5d43c02",
   "metadata": {},
   "outputs": [],
   "source": []
  },
  {
   "cell_type": "code",
   "execution_count": 2,
   "id": "7fe31746-47e2-4e2c-a0b4-740c6dedaad1",
   "metadata": {},
   "outputs": [
    {
     "data": {
      "text/plain": [
       "{1: 10, 2: 20, 3: 30}"
      ]
     },
     "execution_count": 2,
     "metadata": {},
     "output_type": "execute_result"
    }
   ],
   "source": [
    "# test\n",
    "l = [(1,10),(2,20),(3,30)]\n",
    "dict(l)"
   ]
  },
  {
   "cell_type": "code",
   "execution_count": null,
   "id": "c4b255f3-ae4b-4703-9387-34b8911d6928",
   "metadata": {},
   "outputs": [],
   "source": []
  }
 ],
 "metadata": {
  "kernelspec": {
   "display_name": "Python 3 (ipykernel)",
   "language": "python",
   "name": "python3"
  },
  "language_info": {
   "codemirror_mode": {
    "name": "ipython",
    "version": 3
   },
   "file_extension": ".py",
   "mimetype": "text/x-python",
   "name": "python",
   "nbconvert_exporter": "python",
   "pygments_lexer": "ipython3",
   "version": "3.12.2"
  }
 },
 "nbformat": 4,
 "nbformat_minor": 5
}
