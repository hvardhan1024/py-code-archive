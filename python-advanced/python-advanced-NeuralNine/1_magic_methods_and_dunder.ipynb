{
 "cells": [
  {
   "cell_type": "markdown",
   "metadata": {},
   "source": [
    "# Top 10 Dunder Methods in Python\n",
    "\n",
    "1. `__init__(self, ...)`: Initialize an object when it is created.\n"
   ]
  },
  {
   "cell_type": "code",
   "execution_count": 31,
   "metadata": {},
   "outputs": [],
   "source": [
    "class MyClass:\n",
    "    def __init__(self, value):\n",
    "        self.value = value\n",
    "\n",
    "obj = MyClass(10)  # Object initialized with value 10\n"
   ]
  },
  {
   "cell_type": "markdown",
   "metadata": {},
   "source": [
    "\n",
    "2. `__str__(self)`: Return a string representation of the object.\n",
    "\n"
   ]
  },
  {
   "cell_type": "code",
   "execution_count": 32,
   "metadata": {},
   "outputs": [
    {
     "name": "stdout",
     "output_type": "stream",
     "text": [
      "MyClass instance with value 10\n"
     ]
    }
   ],
   "source": [
    "class MyClass:\n",
    "    def __init__(self, value):\n",
    "        self.value = value\n",
    "    \n",
    "    def __str__(self):\n",
    "        return f\"MyClass instance with value {self.value}\"\n",
    "\n",
    "obj = MyClass(10)\n",
    "print(str(obj))  # Output: MyClass instance with value 10\n"
   ]
  },
  {
   "cell_type": "markdown",
   "metadata": {},
   "source": [
    "\n",
    "3. `__repr__(self)`: Return a string representation that can be used to recreate the object.\n",
    "\n",
    "\n"
   ]
  },
  {
   "cell_type": "code",
   "execution_count": 33,
   "metadata": {},
   "outputs": [
    {
     "name": "stdout",
     "output_type": "stream",
     "text": [
      "MyClass(10)\n"
     ]
    }
   ],
   "source": [
    "class MyClass:\n",
    "    def __init__(self, value):\n",
    "        self.value = value\n",
    "    \n",
    "    def __repr__(self):\n",
    "        return f\"MyClass({self.value})\"\n",
    "\n",
    "obj = MyClass(10)\n",
    "print(repr(obj))  # Output: MyClass(10)\n"
   ]
  },
  {
   "cell_type": "markdown",
   "metadata": {},
   "source": [
    "4. `__len__(self)`: Return the length of the object.\n",
    "\n"
   ]
  },
  {
   "cell_type": "code",
   "execution_count": 34,
   "metadata": {},
   "outputs": [
    {
     "name": "stdout",
     "output_type": "stream",
     "text": [
      "5\n"
     ]
    }
   ],
   "source": [
    "class MyList:\n",
    "    def __init__(self, data):\n",
    "        self.data = data\n",
    "\n",
    "    def __len__(self):\n",
    "        return len(self.data)\n",
    "\n",
    "lst = MyList([1, 2, 3, 4, 5])\n",
    "print(len(lst))  # Output: 5\n"
   ]
  },
  {
   "cell_type": "markdown",
   "metadata": {},
   "source": [
    "5. `__iter__(self)`: Allow iteration over the object.\n"
   ]
  },
  {
   "cell_type": "code",
   "execution_count": 35,
   "metadata": {},
   "outputs": [
    {
     "name": "stdout",
     "output_type": "stream",
     "text": [
      "1\n",
      "2\n",
      "3\n",
      "4\n"
     ]
    }
   ],
   "source": [
    "class MyRange:\n",
    "    def __init__(self, start, end):\n",
    "        self.start = start\n",
    "        self.end = end\n",
    "\n",
    "    def __iter__(self):\n",
    "        return iter(range(self.start, self.end))\n",
    "\n",
    "rng = MyRange(1, 5)\n",
    "for num in rng:\n",
    "    print(num)  # Output: 1 2 3 4\n"
   ]
  },
  {
   "cell_type": "markdown",
   "metadata": {},
   "source": [
    "\n",
    "6. `__getitem__(self, key)`: Allow accessing items by index or key.\n",
    "\n"
   ]
  },
  {
   "cell_type": "markdown",
   "metadata": {},
   "source": [
    "7. `__setitem__(self, key, value)`: Allow setting items by index or key.\n"
   ]
  },
  {
   "cell_type": "markdown",
   "metadata": {},
   "source": [
    "\n",
    "8. `__delitem__(self, key)`: Allow deleting items by index or key.\n"
   ]
  },
  {
   "cell_type": "code",
   "execution_count": 45,
   "metadata": {},
   "outputs": [
    {
     "name": "stdout",
     "output_type": "stream",
     "text": [
      "{'a': 1}\n",
      "{'a': 1, 'b': 2}\n",
      "{'b': 2}\n",
      "2\n",
      "{'b': 2}\n"
     ]
    }
   ],
   "source": [
    "class MyDict:\n",
    "    def __init__(self):\n",
    "        self.data = {}\n",
    "\n",
    "    def __str__(self):\n",
    "        return str(self.data)\n",
    "\n",
    "    def __getitem__(self, key):\n",
    "        return self.data[key]\n",
    "\n",
    "    def __setitem__(self, key, value):\n",
    "        self.data[key] = value\n",
    "\n",
    "    def __delitem__(self, key):\n",
    "        del self.data[key]\n",
    "\n",
    "# Instantiate MyDict object\n",
    "d = MyDict()\n",
    "\n",
    "# Setting a key-value pair 'a': 1\n",
    "d['a'] = 1\n",
    "print(d)  # Output: {'a': 1}\n",
    "\n",
    "# Setting another key-value pair 'b': 2\n",
    "d['b'] = 2\n",
    "print(d)  # Output: {'a': 1, 'b': 2}\n",
    "\n",
    "# Deleting the key 'a'\n",
    "del d['a']\n",
    "print(d)  # Output: {'b': 2}\n",
    "\n",
    "# Accessing the value associated with key 'b'\n",
    "print(d['b'])  # Output: 2\n",
    "\n",
    "# Printing the dictionary\n",
    "print(d)  # Output: {'b': 2}\n"
   ]
  },
  {
   "cell_type": "markdown",
   "metadata": {},
   "source": [
    "\n",
    "9. `__contains__(self, item)`: Check if the object contains a specific item.\n"
   ]
  },
  {
   "cell_type": "code",
   "execution_count": 46,
   "metadata": {},
   "outputs": [
    {
     "name": "stdout",
     "output_type": "stream",
     "text": [
      "True\n"
     ]
    }
   ],
   "source": [
    "class MyList:\n",
    "    def __init__(self, data):\n",
    "        self.data = data\n",
    "\n",
    "    def __contains__(self, item):\n",
    "        return item in self.data\n",
    "\n",
    "lst = MyList([1, 2, 3, 4, 5])\n",
    "print(3 in lst)  # Output: True\n"
   ]
  },
  {
   "cell_type": "markdown",
   "metadata": {},
   "source": [
    "\n",
    "10. `__call__(self, ...)`: Make the object callable as a function."
   ]
  },
  {
   "cell_type": "markdown",
   "metadata": {},
   "source": [
    "class MyCallable:\n",
    "    def __init__(self):\n",
    "        pass\n",
    "\n",
    "    def __call__(self, x, y):\n",
    "        return x + y\n",
    "\n",
    "add = MyCallable()\n",
    "print(add(2, 3))  # Output: 5\n"
   ]
  },
  {
   "cell_type": "markdown",
   "metadata": {},
   "source": [
    "## Other Examples"
   ]
  },
  {
   "cell_type": "code",
   "execution_count": 47,
   "metadata": {},
   "outputs": [
    {
     "name": "stdout",
     "output_type": "stream",
     "text": [
      "Ashish - 21\n",
      "Ashish - 21 years is deconstructed !\n"
     ]
    }
   ],
   "source": [
    "class Person:\n",
    "    def __init__(self, name, age):\n",
    "        self.name = name\n",
    "        self.age = age\n",
    "\n",
    "    def __str__(self):\n",
    "        return f'{self.name} - {self.age}'\n",
    "\n",
    "    def __del__(self):\n",
    "        print(f\"{self.name} - {self.age} years is deconstructed !\")\n",
    "\n",
    "\n",
    "# Create an instance of the Person class\n",
    "p = Person('Ashish', 21)\n",
    "\n",
    "# Print the instance using the __str__ method\n",
    "print(p)\n",
    "\n",
    "# Delete the instance, triggering the __del__ method\n",
    "del p  # Generates comments after deleting the instance\n"
   ]
  },
  {
   "cell_type": "code",
   "execution_count": null,
   "metadata": {},
   "outputs": [],
   "source": []
  },
  {
   "cell_type": "code",
   "execution_count": null,
   "metadata": {},
   "outputs": [],
   "source": []
  },
  {
   "cell_type": "code",
   "execution_count": 48,
   "metadata": {},
   "outputs": [
    {
     "name": "stdout",
     "output_type": "stream",
     "text": [
      "Sum of vectors: (60, 80)\n",
      "Difference of vectors: (-40, -40)\n",
      "Element-wise multiplication of vectors: (500, 1200)\n",
      "Element-wise division of vectors: (0.2, 0.3333333333333333)\n"
     ]
    }
   ],
   "source": [
    "class Vector:\n",
    "    def __init__(self, x, y):\n",
    "        self.x = x\n",
    "        self.y = y\n",
    "\n",
    "    def __str__(self):\n",
    "        return f\"({self.x}, {self.y})\"  # String representation of the vector\n",
    "\n",
    "    def __add__(self, other):\n",
    "        # Adding two vectors\n",
    "        return Vector(self.x + other.x, self.y + other.y)\n",
    "\n",
    "    def __sub__(self, other):\n",
    "        # Subtracting one vector from another\n",
    "        return Vector(self.x - other.x, self.y - other.y)\n",
    "\n",
    "    def __mul__(self, other):\n",
    "        # Multiplying two vectors element-wise\n",
    "        return Vector(self.x * other.x, self.y * other.y)\n",
    "\n",
    "    def __truediv__(self, other):\n",
    "        # Dividing one vector by another element-wise\n",
    "        return Vector(self.x / other.x, self.y / other.y)\n",
    "        \n",
    "# Creating two vectors\n",
    "v1 = Vector(10, 20)\n",
    "v2 = Vector(50, 60)\n",
    "\n",
    "# Performing operations and printing results\n",
    "print(\"Sum of vectors:\", v1 + v2)\n",
    "print(\"Difference of vectors:\", v1 - v2)\n",
    "print(\"Element-wise multiplication of vectors:\", v1 * v2)\n",
    "print(\"Element-wise division of vectors:\", v1 / v2)\n"
   ]
  },
  {
   "cell_type": "code",
   "execution_count": null,
   "metadata": {},
   "outputs": [],
   "source": []
  },
  {
   "cell_type": "code",
   "execution_count": 49,
   "metadata": {},
   "outputs": [
    {
     "name": "stdout",
     "output_type": "stream",
     "text": [
      "Stack: [1, 2, 3]\n",
      "Stack size: 3\n",
      "Is stack empty? False\n",
      "Iterating through stack:\n",
      "1\n",
      "2\n",
      "3\n",
      "Pop item: 3\n",
      "Stack: [1, 2]\n"
     ]
    }
   ],
   "source": [
    "class Stack:\n",
    "    def __init__(self):\n",
    "        self.items = []  # Initialize an empty list to store stack items\n",
    "\n",
    "    def __str__(self):\n",
    "        return str(self.items)  # String representation of the stack\n",
    "\n",
    "    def __len__(self):\n",
    "        return len(self.items)  # Return the length of the stack\n",
    "\n",
    "    def __iter__(self):\n",
    "        return iter(self.items)  # Allow iteration over the stack items\n",
    "\n",
    "    def __bool__(self):\n",
    "        return not bool(self.items)  # Check if the stack is empty\n",
    "\n",
    "    def is_empty(self):\n",
    "        return len(self.items) == 0  # Check if the stack is empty (alternative method)\n",
    "\n",
    "    def push(self, item):\n",
    "        self.items.append(item)  # Push an item onto the stack\n",
    "\n",
    "    def pop(self):\n",
    "        if not self.is_empty():  # Check if the stack is not empty\n",
    "            item = self.items.pop()  # Pop and return the top item from the stack\n",
    "            return item\n",
    "        else:\n",
    "            print(\"Stack is empty\")\n",
    "            return None  # Return None if stack is empty\n",
    "\n",
    "    def peek(self):\n",
    "        if not self.is_empty():  # Check if the stack is not empty\n",
    "            return self.items[-1]  # Return the top item from the stack without removing it\n",
    "        else:\n",
    "            print(\"Stack is empty\")\n",
    "            return None  # Return None if stack is empty\n",
    "\n",
    "\n",
    "# Usage example:\n",
    "stack = Stack()\n",
    "\n",
    "# Push some items onto the stack\n",
    "stack.push(1)\n",
    "stack.push(2)\n",
    "stack.push(3)\n",
    "\n",
    "# Print stack and its properties\n",
    "print(\"Stack:\", stack)\n",
    "print(\"Stack size:\", len(stack))\n",
    "print(\"Is stack empty?\", bool(stack))\n",
    "\n",
    "# Iterate through the stack\n",
    "print(\"Iterating through stack:\")\n",
    "for item in stack:\n",
    "    print(item)\n",
    "\n",
    "# Pop an item from the stack\n",
    "print(\"Pop item:\", stack.pop())\n",
    "\n",
    "# Print stack after popping an item\n",
    "print(\"Stack:\", stack)\n"
   ]
  },
  {
   "cell_type": "code",
   "execution_count": null,
   "metadata": {},
   "outputs": [],
   "source": []
  },
  {
   "cell_type": "code",
   "execution_count": null,
   "metadata": {},
   "outputs": [],
   "source": []
  },
  {
   "cell_type": "code",
   "execution_count": null,
   "metadata": {},
   "outputs": [],
   "source": []
  }
 ],
 "metadata": {
  "kernelspec": {
   "display_name": "Python 3 (ipykernel)",
   "language": "python",
   "name": "python3"
  },
  "language_info": {
   "codemirror_mode": {
    "name": "ipython",
    "version": 3
   },
   "file_extension": ".py",
   "mimetype": "text/x-python",
   "name": "python",
   "nbconvert_exporter": "python",
   "pygments_lexer": "ipython3",
   "version": "3.12.2"
  }
 },
 "nbformat": 4,
 "nbformat_minor": 4
}
